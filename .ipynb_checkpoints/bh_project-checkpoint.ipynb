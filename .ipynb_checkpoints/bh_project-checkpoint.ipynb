{
 "cells": [
  {
   "cell_type": "markdown",
   "id": "72854dbb",
   "metadata": {},
   "source": [
    "# Non-Interacting Black Holes\n",
    "\n",
    "Searching for non-interacting black holes is like finding a needle in a haystack. Gaia has provided the haystack, now we just need to figure out how to sift through the vast amounts of data.\n",
    "\n",
    "Here we will be using Gaia data and radial velocity observations to characterize a non-interacting black hole \"Gaia BH-1\" identified in [El-Badry et al. (2023)](https://ui.adsabs.harvard.edu/abs/2023MNRAS.518.1057E/abstract)\n",
    "\n",
    "## Outline:\n",
    "\n",
    "* [SQL and querying Gaia data](#Searching-Gaia-data-with-SQL)\n",
    "* [Constructing a color-magnitude diagram](#Constructing-a-color-magnitude-diagram)\n",
    "* [Properties of Gaia BH-1](#Properties-of-Gaia-BH-1)\n",
    "* [Plotting radial velocity data](#Radial-Velocity-Observations)\n",
    "* [Calculating the Binary mass function](#Calculating-the-Binary-Mass-Function)"
   ]
  },
  {
   "cell_type": "code",
   "execution_count": null,
   "id": "9035c850",
   "metadata": {},
   "outputs": [],
   "source": [
    "#These are some standard packages we will use to download, interpret, and plot data\n",
    "!pip install astroquery\n",
    "from astroquery.gaia import Gaia\n",
    "from astropy import units as u\n",
    "from astropy import constants as const\n",
    "import matplotlib.pyplot as plt\n",
    "import numpy as np\n",
    "import pandas as pd\n",
    "\n",
    "#We will use this plotting function later to make our figures look a bit nicer\n",
    "def plotparams(ax):\n",
    "    '''\n",
    "    Basic plot params \n",
    "\n",
    "    :param ax: axes to modify\n",
    "\n",
    "    :type ax: matplotlib axes object\n",
    "\n",
    "    :returns: modified matplotlib axes object\n",
    "    '''\n",
    "    ax.minorticks_on()\n",
    "    ax.yaxis.set_ticks_position('both')\n",
    "    ax.xaxis.set_ticks_position('both')\n",
    "    ax.tick_params(direction='in', which='both', labelsize=15)\n",
    "    ax.tick_params('both', length=8, width=1.8, which='major')\n",
    "    ax.tick_params('both', length=4, width=1, which='minor')\n",
    "    for axis in ['top', 'bottom', 'left', 'right']:\n",
    "        ax.spines[axis].set_linewidth(1.5)\n",
    "    return ax"
   ]
  },
  {
   "cell_type": "markdown",
   "id": "f190f15b",
   "metadata": {},
   "source": [
    "# Searching Gaia data with SQL\n",
    "\n",
    "Here is the summary of Gaia (made with the help of ChatGPT):\n",
    "\n",
    ">The Gaia mission is a space observatory launched by the European Space Agency (ESA) in 2013. Its primary goal is to create a 3D map of the Milky Way galaxy by measuring the positions, distances, and motions of stars. The mission also aims to study the origin and evolution of our galaxy, as well as search for exoplanets and other celestial bodies. The spacecraft carries a 1.45-meter telescope and a suite of scientific instruments, including a high-resolution spectrophotometer and a high-precision astrometric sensor, which are used to measure the positions, motions, and other properties of stars.\n",
    ">\n",
    ">The data collected by Gaia is expected to greatly improve our understanding of the structure and history of the Milky Way, and will be used by scientists for many years to come. The first data release, Gaia DR1, was made available to the public in September 2016, and subsequent data releases have been made every two years. The most recent data release of the mission, named Gaia DR3, contains more than 1.8 Terabytes of data in total, including positions, motions, brightness and colors of stars, and also contains data on astrometric parameters, radial velocities and photometry for more than 1.7 billion sources. This data is available to the public and is used by scientists and researchers around the world to study the Milky Way galaxy and other celestial bodies.\n",
    "\n",
    "\n",
    "Gaia has data on ~1.8 billion objects, so it is unsurprising that Gaia has a huge amount of data (many 100s of GBs), so downloading it all to your computer is unfeasable. Luckily there is a better way to search through the data with \"structured query language\" or SQL, for short. \n",
    "\n",
    "SQL is not an astronomy-specific language. It is broadly applicable to any large system of databases, and is a standard tool to interact with data.\n",
    "\n",
    "For the purposes of this project, we are only using SQL to retrieve data from Gaia, rather than creating or altering tables. The main syntax of an SQL query will look something like:\n",
    "\n",
    "    SELECT *\n",
    "    FROM table\n",
    "    \n",
    "The first row uses \"SELECT\" to indicate what data to get. The asterisk indicates select everything. We might want to select the first 100 entries, or just a few columns:\n",
    "\n",
    "    SELECT TOP 100 table.column1, table.column2\n",
    "    FROM table\n",
    "    \n",
    "Here we would only be getting the first 100 rows of the table and only columns \"column1\" and \"column2\".\n",
    "\n",
    "Often times we only want to select certain rows from our table. We can add a line to our query with \"WHERE\" to do this. For example, if we have a table with two columns -- students and grade, we might want to select the students with grades > 90%. Our query would look like this:\n",
    "\n",
    "    SELECT table.students, table.grade\n",
    "    FROM table \n",
    "    WHERE table.grade > 0.9\n",
    "    \n",
    "We could expand this query to include multiple conditions using AND or OR:\n",
    "\n",
    "    SELECT table.students, table.grade\n",
    "    FROM table\n",
    "    WHERE table.grade > 0.85 AND table.grade < 0.95\n",
    "   "
   ]
  },
  {
   "cell_type": "markdown",
   "id": "4d066c11",
   "metadata": {},
   "source": [
    "## Structure of Gaia tables\n",
    "\n",
    "We will use the ```astroquery``` package to write and submit our SQL queries. Before we can get our data, we have to figure out how the tables are structured and what the columns are called. We will also use the ```astroquery``` package to do this."
   ]
  },
  {
   "cell_type": "code",
   "execution_count": null,
   "id": "64cac0c2",
   "metadata": {},
   "outputs": [],
   "source": [
    "#Lets start by listing all the tables that are available\n",
    "tables = Gaia.load_tables(only_names=True)\n",
    "\n",
    "print(f'\\nThere are {len(tables)} Gaia tables\\n')\n",
    "for table in tables:\n",
    "    print(table.name)"
   ]
  },
  {
   "cell_type": "markdown",
   "id": "8dcc8421",
   "metadata": {},
   "source": [
    "There are a lot of tables... luckily we will just need one of them (for now...). It is called \"gaiadr3.gaia_source\". Write a line of python to check that this is in the list of tables"
   ]
  },
  {
   "cell_type": "code",
   "execution_count": null,
   "id": "0a521a08",
   "metadata": {},
   "outputs": [],
   "source": [
    "for table in tables:\n",
    "    if table.name == : #your code here\n",
    "        print('Table exists!')"
   ]
  },
  {
   "cell_type": "markdown",
   "id": "2aeb5c00",
   "metadata": {},
   "source": [
    "Next we need to figure out what info is contained in the table. This is called the 'metadata'. The metadata will contain a summary and a list of the columns in the table"
   ]
  },
  {
   "cell_type": "code",
   "execution_count": null,
   "id": "5502d346",
   "metadata": {},
   "outputs": [],
   "source": [
    "table_metadata = Gaia.load_table('gaiadr3.gaia_source')\n",
    "print(table_metadata)\n",
    "print('\\n')\n",
    "for column in table_metadata.columns:\n",
    "    print(column.name)"
   ]
  },
  {
   "cell_type": "markdown",
   "id": "980bace4",
   "metadata": {},
   "source": [
    "Those are a lot of columns, and it is usually unclear what the column names actually mean. You can find descriptions of all of the columns in the [Gaia documenation](https://gea.esac.esa.int/archive/documentation/GDR3/Gaia_archive/chap_datamodel/sec_dm_main_source_catalogue/ssec_dm_gaia_source.html)\n",
    "\n",
    "The columns we will actually need are:\n",
    "* source_id\n",
    "* random_index\n",
    "* parallax\n",
    "* parallax_over_error\n",
    "* phot_g_mean_mag\n",
    "* phot_bp_mean_mag\n",
    "* phot_rp_mean_mag\n",
    "* ruwe\n",
    "\n",
    "To start search these column names in the documentation linked above and add a short note about what they are here. When applicable, make a note of the units that Gaia uses.\n",
    "\n",
    "Now let's write our first query. We use triple quote blocks to do this. Here is an example of getting 10 rows with the source_id and phot_g_mean_mag columns."
   ]
  },
  {
   "cell_type": "code",
   "execution_count": null,
   "id": "7b723cf0",
   "metadata": {},
   "outputs": [],
   "source": [
    "example_query = \"\"\"\n",
    "SELECT TOP 10 gaiadr3.gaia_source.source_id, gaiadr3.gaia_source.phot_g_mean_mag\n",
    "FROM gaiadr3.gaia_source\n",
    "\"\"\"\n",
    "\n",
    "example_job = Gaia.launch_job(example_query)\n",
    "example_results = example_job.get_results().to_pandas()\n",
    "example_results"
   ]
  },
  {
   "cell_type": "markdown",
   "id": "ef323c0b",
   "metadata": {},
   "source": [
    "Using this above query as an example, fill-in the query below to get 10,000 stars with all 8 of the columns above. Include the conditions that ruwe < 1.5 and parallax_over_error > 20 in your query\n",
    "\n",
    "You'll see that I also added a condition ```MOD(gaia.random_index, 10) = 0```. This is just a quick way to select a random set of stars."
   ]
  },
  {
   "cell_type": "code",
   "execution_count": null,
   "id": "65c9b049",
   "metadata": {},
   "outputs": [],
   "source": [
    "my_query = \"\"\"\n",
    "SELECT TOP 10000 ????\n",
    "FROM gaiadr3.gaia_source AS gaia\n",
    "WHERE MOD(gaia.random_index, 10) = 0 AND ????\n",
    "\"\"\"\n",
    "\n",
    "my_job = Gaia.launch_job(my_query)\n",
    "my_results = my_job.get_results().to_pandas()\n",
    "print(my_results)"
   ]
  },
  {
   "cell_type": "markdown",
   "id": "f56f7d0f",
   "metadata": {},
   "source": [
    "How can we access individual values in this table? We have a \"pandas dataframe object\", which has many features and options for working with data (see [documentation](https://pandas.pydata.org/docs/reference/api/pandas.DataFrame.html). We use the following syntax with \"iloc\" to access data:"
   ]
  },
  {
   "cell_type": "code",
   "execution_count": null,
   "id": "8ef7a703",
   "metadata": {},
   "outputs": [],
   "source": [
    "#get the first value of the 'phot_g_mean_mag' column:\n",
    "\n",
    "value = my_results.phot_g_mean_mag.iloc[0]\n",
    "print(value)\n",
    "\n",
    "#this should match what we see in printing the full table above. \n",
    "# You can change the zero in iloc[0] to access any row in the table you'd like"
   ]
  },
  {
   "attachments": {
    "image.png": {
     "image/png": "[encoded data removed]"
    }
   },
   "cell_type": "markdown",
   "id": "565f4012",
   "metadata": {},
   "source": [
    "# Constructing a color-magnitude diagram\n",
    "\n",
    "Now that we have some Gaia data, lets make one of the most important plots in astronomy: the Hertzsprung–Russell diagram:\n",
    "\n",
    "![image.png](attachment:image.png)\n",
    "\n",
    "This is also called the color-magnitude diagram because the axes are color and absolute magnitude. Let's start by calculating the absolute magnitude of all of the stars in our gaia table.\n",
    "\n",
    "We have a \"phot_g_mean_mag\" column, which is the apparent magnitude in the G band. What is the difference between the \"apparent\" and \"absolute\" magnitude?\n",
    "\n",
    "Apparent magnitude and absolute magnitude are two ways of measuring the brightness of a celestial object. Apparent magnitude is a measure of how bright an object appears to an observer on Earth. It is based on the object's intrinsic luminosity and its distance from Earth. An object with a high apparent magnitude appears dimmer, while an object with a low apparent magnitude appears brighter. We usually use a lowercase $m$ for apparent magnitude. \n",
    "\n",
    "On the other hand, absolute magnitude is a measure of an object's intrinsic luminosity, or how bright it would appear if it were at a standard distance from the observer. This standard distance is defined as 10 parsecs (about 32.6 light-years) away from the observer. Objects with a high absolute magnitude are intrinsically dimmer, while objects with a low absolute magnitude are intrinsically brighter. We often use an uppercase $M$ for absolute magnitude.\n",
    "\n",
    "The equation to use to convert from apparent magnitude to absolute is\n",
    "\n",
    "$$\n",
    "M = m - 5 \\log_{10}(d/10),\n",
    "$$\n",
    "where $d$ is the distance to the star in parsecs.\n",
    "\n",
    "Okay, but we don't have the distance, just the parallax. Parallax is the apparent shift of an object's position when viewed from different locations. In the case of stars, parallax is the apparent shift of a star's position as seen from opposite ends of the Earth's orbit around the Sun. This change in position is caused by the Earth's movement around the sun and can be used to determine the distance of the star from Earth. The equation is simply:\n",
    "\n",
    "<center>\n",
    "    \n",
    "    Distance (in parsecs) = 1 / parallax angle (in arcseconds)\n",
    "</center>"
   ]
  },
  {
   "cell_type": "code",
   "execution_count": null,
   "id": "70aa4f76",
   "metadata": {},
   "outputs": [],
   "source": [
    "#write a function to convert parsec to distance. Assume the parallax is given in arcseconds\n",
    "\n",
    "def calculate_distance(parallax):\n",
    "    \n",
    "    #Your code here\n",
    "\n",
    "#Test it out, should print \"True\"\n",
    "calculate_distance(0.002) == 500"
   ]
  },
  {
   "cell_type": "code",
   "execution_count": null,
   "id": "8c36cf5b",
   "metadata": {},
   "outputs": [],
   "source": [
    "#write a function that calculates the absolute magnitude given the apparent magnitude and parallax\n",
    "#to calculate log10, use np.log10(x)\n",
    "\n",
    "def calculate_absolute_mag(apparent_mag, parallax):\n",
    "    \n",
    "    #Your code here\n"
   ]
  },
  {
   "cell_type": "code",
   "execution_count": null,
   "id": "1a713ff1",
   "metadata": {},
   "outputs": [],
   "source": [
    "#Test out the calculate_absolute_mag function with the first row of the my_results table\n",
    "\n",
    "calculate_absolute_mag(my_results.phot_g_mean_mag.iloc[0], my_results.parallax.iloc[0]/1000)\n",
    "\n",
    "#Is this value resonable given the scale of the y-axis above? \n",
    "# If not you may have to check the units on parallax..."
   ]
  },
  {
   "cell_type": "markdown",
   "id": "80eb48b3",
   "metadata": {},
   "source": [
    "Next we want to use a for-loop to calculate the absolute magnitude of all of our stars in the table.\n",
    "\n",
    "A for-loop in Python is a control flow statement used to iterate over a sequence of elements, such as a list or a range of numbers. It allows you to execute a block of code repeatedly, once for each element in the sequence.\n",
    "\n",
    "For example, the following for-loop will iterate over a list of numbers and print each one:"
   ]
  },
  {
   "cell_type": "code",
   "execution_count": null,
   "id": "5f40e49e",
   "metadata": {},
   "outputs": [],
   "source": [
    "numbers = [1, 2, 3, 4, 5]\n",
    "for num in numbers:\n",
    "    print(num)\n"
   ]
  },
  {
   "cell_type": "markdown",
   "id": "a7f9ef6a",
   "metadata": {},
   "source": [
    "we could write the same loop by going through the index of the list instead of the individual elements:"
   ]
  },
  {
   "cell_type": "code",
   "execution_count": null,
   "id": "2f3c95a9",
   "metadata": {},
   "outputs": [],
   "source": [
    "for i in range(len(numbers)):\n",
    "    print(numbers[i])"
   ]
  },
  {
   "cell_type": "markdown",
   "id": "2d66bb36",
   "metadata": {},
   "source": [
    "we could use this pattern to construct a new list using the existing list"
   ]
  },
  {
   "cell_type": "code",
   "execution_count": null,
   "id": "82d6c74e",
   "metadata": {},
   "outputs": [],
   "source": [
    "numbers_squared = []\n",
    "for i in range(len(numbers)):\n",
    "    numbers_squared.append(numbers[i]**2)\n",
    "    \n",
    "print(numbers)\n",
    "print(numbers_squared)"
   ]
  },
  {
   "cell_type": "code",
   "execution_count": null,
   "id": "a143c2b9",
   "metadata": {},
   "outputs": [],
   "source": [
    "#Use these examples to write a for-loop that calculates the absolute G-band mag of all of the stars in our table\n",
    "\n",
    "absolute_mag = []\n",
    "for i in range(len(my_results)):\n",
    "    # Your code here"
   ]
  },
  {
   "cell_type": "markdown",
   "id": "6ed1d75d",
   "metadata": {},
   "source": [
    "This absolute mag list will be the y-values of the points on our plot. The x-axis is color, which is the difference between flux in a red and blue band. We want to calculate the difference between phot_bp_mean_mag and phot_rp_mean_mag and store this in a list called \"bp_rp_color\""
   ]
  },
  {
   "cell_type": "code",
   "execution_count": null,
   "id": "40d5250a",
   "metadata": {},
   "outputs": [],
   "source": [
    "bp_rp_color = []\n",
    "for i in range(len(my_results)):\n",
    "    # Your code here"
   ]
  },
  {
   "cell_type": "markdown",
   "id": "1ccd8f13",
   "metadata": {},
   "source": [
    "Finally, let's plot the results to make a figure like the one above. We will use matplotlib to do this. Here is an example of how to make a scatter plot with fake data:"
   ]
  },
  {
   "cell_type": "code",
   "execution_count": null,
   "id": "ed7c1b69",
   "metadata": {},
   "outputs": [],
   "source": [
    "fake_xvals = [1,2,3,4,5]\n",
    "fake_yvals = [ x**2 for x in fake_xvals ]\n",
    "\n",
    "fig, ax = plt.subplots(1, 1, figsize=(8, 8))\n",
    "ax = plotparams(ax)\n",
    "\n",
    "ax.scatter(fake_xvals, fake_yvals, color='black', marker='o', edgecolor='none', alpha=0.8)\n",
    "ax.set_xlabel('x', fontsize=20)\n",
    "ax.set_ylabel('y', fontsize=20)"
   ]
  },
  {
   "cell_type": "code",
   "execution_count": null,
   "id": "1418237c",
   "metadata": {},
   "outputs": [],
   "source": [
    "#Use the above example to make a scatter plot that plots bp_rp_color and absolute_mag\n",
    "\n",
    "fig, ax = plt.subplots(1, 1, figsize=(8, 8))\n",
    "ax = plotparams(ax)\n",
    "\n",
    "#Your code here"
   ]
  },
  {
   "cell_type": "markdown",
   "id": "8ba99653",
   "metadata": {},
   "source": [
    "Does this look like the example color-magnitude figure above? If not, try googling matplotlib to get the write code/function you need."
   ]
  },
  {
   "cell_type": "markdown",
   "id": "a65444aa",
   "metadata": {},
   "source": [
    "# Properties of Gaia BH-1\n",
    "\n",
    "Gaia BH-1 was identified as an asterometric binary with a large photocenter ellipse and a period of >180 days. Radial velocity observations confirmed this orbit and revealed large amplitude variations, indicating the presence of a massive, unseen companion. \n",
    "\n",
    "Before we look at the radial velocity observations, lets look at the gaia data for this star and see how it fits on our color-magnitude diagram. "
   ]
  },
  {
   "cell_type": "code",
   "execution_count": null,
   "id": "8b60d63f",
   "metadata": {},
   "outputs": [],
   "source": [
    "#this is an example of a formatted \"f\" string, which may be helpful below\n",
    "\n",
    "value = 5\n",
    "print(f\"The value of the variable is {value}\")"
   ]
  },
  {
   "cell_type": "code",
   "execution_count": null,
   "id": "e0871861",
   "metadata": {},
   "outputs": [],
   "source": [
    "source_id_bh = 4373465352415301632 \n",
    "\n",
    "#Write a Gaia SQL query to get all of the info on this source from the gaiadr3.gaia_source table\n",
    "\n",
    "query_bh = f\"\"\"\n",
    "SELECT\n",
    "FROM\n",
    "WHERE\"\"\"\n",
    "\n",
    "job_bh = Gaia.launch_job(query_bh)\n",
    "results_bh = job_bh.get_results().to_pandas()\n",
    "results_bh_dict = results_bh.iloc[0].to_dict() #This line converts the results to a python dictionary\n",
    "results_bh_dict"
   ]
  },
  {
   "cell_type": "markdown",
   "id": "f3a3ddf4",
   "metadata": {},
   "source": [
    "The above code also shows how you can convert the result to a dictionary, which may be a better way to work with the result since the table only has one line. [Here is a link with more info on python dictionaries](https://www.w3schools.com/python/python_dictionaries.asp)"
   ]
  },
  {
   "cell_type": "code",
   "execution_count": null,
   "id": "a78b461e",
   "metadata": {},
   "outputs": [],
   "source": [
    "#Use the calculate_absolute_mag to calculate the absolute magnitude of Gaia BH-1:\n",
    "\n",
    "absolute_mag_bh = #your code here\n",
    "color_bh = #your code here"
   ]
  },
  {
   "cell_type": "code",
   "execution_count": null,
   "id": "19b73eb3",
   "metadata": {},
   "outputs": [],
   "source": [
    "#Here are the values for the Sun\n",
    "absolute_mag_sun = 4.68\n",
    "color_sun = 0.82"
   ]
  },
  {
   "cell_type": "code",
   "execution_count": null,
   "id": "e5e566e3",
   "metadata": {},
   "outputs": [],
   "source": [
    "#Copy your above code that made the color-magnitude figure, but add a line of code to also show where Gaia BH-1 is\n",
    "\n",
    "fig, ax = plt.subplots(1, 1, figsize=(8, 8))\n",
    "ax = plotparams(ax)\n",
    "\n",
    "#Your code here"
   ]
  },
  {
   "cell_type": "markdown",
   "id": "91b92f10",
   "metadata": {},
   "source": [
    "So this star looks like a main-sequence star based on its CMD position. It was detected as an astrometric binary in Gaia. The two key parameters we want from Gaia are the period, which describes the size of the orbit, and the eccentricity, which describes the shape of the orbit. \n",
    "\n",
    "These values are in a different Gaia table, so we will have to adjust the table accordingly. Modify the query below to grab the period and eccentricity of Gaia BH1\n",
    "\n",
    "The column names you want are called \"period\" and \"eccentricity\". The orbital period is in days."
   ]
  },
  {
   "cell_type": "code",
   "execution_count": null,
   "id": "0e6b0201",
   "metadata": {},
   "outputs": [],
   "source": [
    "#Modify this sql query\n",
    "\n",
    "query_nss = f\"\"\"\n",
    "SELECT nss.source_id, \n",
    "FROM gaiadr3.nss_two_body_orbit AS nss\n",
    "WHERE \"\"\"\n",
    "\n",
    "job_nss = Gaia.launch_job(query_nss)\n",
    "results_nss = job_nss.get_results().to_pandas()\n",
    "print(results_nss)\n"
   ]
  },
  {
   "cell_type": "markdown",
   "id": "deaf201f",
   "metadata": {},
   "source": [
    "# Radial Velocity Observations\n",
    "\n",
    "At this point, we've seen that this star is on a long-period, eccentric orbit with another unknown body. Is this a planet, a star, or a compact object? The key parameter in characterizing the system is the mass of the second body. We can gain some insight into the mass using radial velocity observations. \n",
    "\n",
    "The radial velocity semi-amplitude, $K$ and orbital period, $P$ can be combined to give the binary mass function, which is related to the masses in the system\n",
    "\n",
    "$$\n",
    "f(M) = \\frac{M_2^3 \\sin^3 i}{(M_1 + M_2)^2} = \\frac{P K^3}{2 \\pi G},\n",
    "$$\n",
    "where $i$ is the inclination of the orbit, $M_1$ is the mass of the star, and $M_2$ is the mass of the unknown companion. The binary mass function effectively sets a lower limit on the mass of the unknown companion, so our plan is to combine $P$ from Gaia with $K$ from the radial velocities to compute $f(M)$.\n",
    "\n",
    "\n",
    "The ```radial_velocity_data.csv``` file contains the radial velocity data for this object. \n",
    "\n",
    "We will load this in using pandas read_csv. Stack overflow is a good resource for learning new python syntax. Check [out this link](https://stackoverflow.com/questions/14365542/import-csv-file-as-a-pandas-dataframe), then read in the data in the cell below:"
   ]
  },
  {
   "cell_type": "code",
   "execution_count": null,
   "id": "b492defb",
   "metadata": {
    "scrolled": true
   },
   "outputs": [],
   "source": [
    "#Create a pandas df and print it\n",
    "\n",
    "df_rv = # your code here"
   ]
  },
  {
   "cell_type": "markdown",
   "id": "9104f6f1",
   "metadata": {},
   "source": [
    "We see that the RV data has four columns:\n",
    "* hjd: Heliocentric julian date\n",
    "* rv: radial velocity (km/s)\n",
    "* err: radial velocity error (km/s)\n",
    "* instrument: name of spectrograph\n",
    "\n",
    "Our of curiousity, lets see how many times each instrument was used. The method we want to use is 'value_counts'"
   ]
  },
  {
   "cell_type": "code",
   "execution_count": null,
   "id": "d2090818",
   "metadata": {},
   "outputs": [],
   "source": [
    "df_rv.instrument.value_counts()"
   ]
  },
  {
   "cell_type": "code",
   "execution_count": null,
   "id": "df41fb91",
   "metadata": {},
   "outputs": [],
   "source": [
    "#Make a figure to show the radial velocity data over time\n",
    "\n",
    "fig, ax = plt.subplots(1, 1, figsize=(12, 6))\n",
    "ax = plotparams(ax)\n",
    "\n",
    "#your code here"
   ]
  },
  {
   "cell_type": "markdown",
   "id": "23dda9ca",
   "metadata": {},
   "source": [
    "The equation for the binary mass function above uses the velocity semi-amplitude, $K$. The semi-amplitude is half of the peak-to-peak RV variability."
   ]
  },
  {
   "cell_type": "code",
   "execution_count": null,
   "id": "a2d30b96",
   "metadata": {},
   "outputs": [],
   "source": [
    "#Use the python min() and max() functions to calculate K\n",
    "\n",
    "K = # your code here"
   ]
  },
  {
   "cell_type": "markdown",
   "id": "193aa6b8",
   "metadata": {},
   "source": [
    "# Calculating the Binary Mass Function\n",
    "\n",
    "\n",
    "Now that we have $K$ and $P$, we can calculate $f(M)$ using the equation above. You could do this with a calculator, but units are annoying (we want $f(M)$ in units of solar masses). \n",
    "\n",
    "The astropy package makes units easier. It also includes constants so we don't have to enter a value for $G$.\n",
    "\n",
    "Here is a list of the constants included in astropy:\n",
    "https://docs.astropy.org/en/stable/constants/index.html#reference-api"
   ]
  },
  {
   "cell_type": "code",
   "execution_count": null,
   "id": "416ee376",
   "metadata": {},
   "outputs": [],
   "source": [
    "#Examples using astropy units and constants\n",
    "\n",
    "print(\"The speed of light is \", const.c)\n",
    "print(\"The radius of the Earth is \", const.R_earth)"
   ]
  },
  {
   "cell_type": "code",
   "execution_count": null,
   "id": "4c3a8230",
   "metadata": {},
   "outputs": [],
   "source": [
    "#You can also do operations with constants\n",
    "\n",
    "const.R_jup * 15"
   ]
  },
  {
   "cell_type": "code",
   "execution_count": null,
   "id": "c69f0c22",
   "metadata": {},
   "outputs": [],
   "source": [
    "#The constants include a default unit. This makes it easy to convert from \"m\" to \"cm\", for example:\n",
    "\n",
    "(const.R_jup * 15).to('cm')"
   ]
  },
  {
   "cell_type": "code",
   "execution_count": null,
   "id": "132a2001",
   "metadata": {},
   "outputs": [],
   "source": [
    "#You can also assign units to your own variables:\n",
    "\n",
    "my_height = 1.75 * u.m\n",
    "\n",
    "my_height.to('micron')"
   ]
  },
  {
   "cell_type": "markdown",
   "id": "f7c70c3e",
   "metadata": {},
   "source": [
    "Using astropy units, calculate the binary mass function. \n",
    "\n",
    "Here is a link to more info on astropy units. If you scroll halfway down there is a list of all the units available.\n",
    "\n",
    "https://docs.astropy.org/en/stable/units/index.html"
   ]
  },
  {
   "cell_type": "code",
   "execution_count": null,
   "id": "5f61a39a",
   "metadata": {},
   "outputs": [],
   "source": [
    "#Calculate the binary mass function in units of solar masses\n",
    "\n",
    "fM = #your code here"
   ]
  }
 ],
 "metadata": {
  "kernelspec": {
   "display_name": "Python 3 (ipykernel)",
   "language": "python",
   "name": "python3"
  },
  "language_info": {
   "codemirror_mode": {
    "name": "ipython",
    "version": 3
   },
   "file_extension": ".py",
   "mimetype": "text/x-python",
   "name": "python",
   "nbconvert_exporter": "python",
   "pygments_lexer": "ipython3",
   "version": "3.8.16"
  }
 },
 "nbformat": 4,
 "nbformat_minor": 5
}
